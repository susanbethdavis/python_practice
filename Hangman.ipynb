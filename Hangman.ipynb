{
 "cells": [
  {
   "cell_type": "code",
   "execution_count": 19,
   "id": "c121de5b-ac03-412b-8488-9d51457947d7",
   "metadata": {},
   "outputs": [],
   "source": [
    "import json\n",
    "import random"
   ]
  },
  {
   "cell_type": "code",
   "execution_count": 20,
   "id": "f3071d44-ce25-410c-8879-20bc2f5625c0",
   "metadata": {},
   "outputs": [],
   "source": [
    "with open( 'words.json' ) as inp:\n",
    "    data = json.load(inp) \n",
    "    "
   ]
  },
  {
   "cell_type": "markdown",
   "id": "13c392bd-bad6-4408-9997-8e726b0a7c37",
   "metadata": {},
   "source": [
    "Randomly choose a target word.\n",
    "Present the user with the number of letters in the target word, and fill in any letters they'd properly guessed (initially there would be no letters guessed).\n",
    "Ask the user to enter a letter that hasn't already been selected.\n",
    "Determine if that letter is part of the target word that the user has not guessed yet.\n",
    "Let the user know whether their guess was in the (remainder of the) word or not.\n",
    "Update letters guessed correctly if a correct guess was made, or number of mistakes if an incorrect guess was made.\n",
    "Continue until the player guesses the entire word (success), or until six incorrect guesses are made (failure)."
   ]
  },
  {
   "cell_type": "code",
   "execution_count": 21,
   "id": "5dd1e435-51b8-4cb9-8705-8bffda76f2c5",
   "metadata": {},
   "outputs": [],
   "source": [
    "def hangman():\n",
    "    words = data[\"data\"]\n",
    "    target = random.choice(words)\n",
    "    print(f'Welcome to Hangman! Your target word has {len(target)} letters.')\n",
    "\n",
    "    guessed_letters = []\n",
    "    correct_letters = [\"_\"] * len(target)\n",
    "    mistakes = 0\n",
    "    max_mistakes = 6\n",
    "\n",
    "    while True:\n",
    "        # Display the current state of the guessed word\n",
    "        print(\"Current word: \" + \" \".join(correct_letters))\n",
    "        \n",
    "        guess = input('Please guess a letter that has not yet been guessed: ').lower()\n",
    "\n",
    "        if len(guess) != 1 or not guess.isalpha():\n",
    "            print('Please enter a single letter in the English alphabet.')\n",
    "            continue\n",
    "        \n",
    "        if guess in guessed_letters:\n",
    "            print('You have already guessed that letter. Try again.')\n",
    "            continue    \n",
    "        \n",
    "        guessed_letters.append(guess)\n",
    "        \n",
    "        # Determine if that letter is part of the target word\n",
    "        if guess in target:\n",
    "            for i in range(len(target)):\n",
    "                if target[i] == guess:\n",
    "                    correct_letters[i] = guess\n",
    "            print(f'Letter {guess} is in your target word.')\n",
    "        else:\n",
    "            mistakes += 1\n",
    "            print(f'Letter {guess} is not in your target word.')\n",
    "        \n",
    "        # Check if the player has won\n",
    "        if \"_\" not in correct_letters:\n",
    "            print(\"Congratulations! You've guessed the word:\", target)\n",
    "            break\n",
    "\n",
    "        # Check if the player has lost\n",
    "        if mistakes == max_mistakes:\n",
    "            print(f'You have made {max_mistakes} mistakes. You lose! The word was: {target}')\n",
    "            break\n"
   ]
  },
  {
   "cell_type": "code",
   "execution_count": 22,
   "id": "1ad6ede9-8f77-4756-9738-9c5f0e23cc60",
   "metadata": {},
   "outputs": [
    {
     "name": "stdout",
     "output_type": "stream",
     "text": [
      "Welcome to Hangman! Your target word has 5 letters.\n",
      "Current word: _ _ _ _ _\n"
     ]
    },
    {
     "name": "stdin",
     "output_type": "stream",
     "text": [
      "Please guess a letter that has not yet been guessed:  p\n"
     ]
    },
    {
     "name": "stdout",
     "output_type": "stream",
     "text": [
      "Letter p is not in your target word.\n",
      "Current word: _ _ _ _ _\n"
     ]
    },
    {
     "name": "stdin",
     "output_type": "stream",
     "text": [
      "Please guess a letter that has not yet been guessed:  s\n"
     ]
    },
    {
     "name": "stdout",
     "output_type": "stream",
     "text": [
      "Letter s is not in your target word.\n",
      "Current word: _ _ _ _ _\n"
     ]
    },
    {
     "name": "stdin",
     "output_type": "stream",
     "text": [
      "Please guess a letter that has not yet been guessed:  a\n"
     ]
    },
    {
     "name": "stdout",
     "output_type": "stream",
     "text": [
      "Letter a is in your target word.\n",
      "Current word: _ _ a _ _\n"
     ]
    },
    {
     "name": "stdin",
     "output_type": "stream",
     "text": [
      "Please guess a letter that has not yet been guessed:  t\n"
     ]
    },
    {
     "name": "stdout",
     "output_type": "stream",
     "text": [
      "Letter t is not in your target word.\n",
      "Current word: _ _ a _ _\n"
     ]
    },
    {
     "name": "stdin",
     "output_type": "stream",
     "text": [
      "Please guess a letter that has not yet been guessed:  l\n"
     ]
    },
    {
     "name": "stdout",
     "output_type": "stream",
     "text": [
      "Letter l is in your target word.\n",
      "Current word: _ l a _ _\n"
     ]
    },
    {
     "name": "stdin",
     "output_type": "stream",
     "text": [
      "Please guess a letter that has not yet been guessed:  p\n"
     ]
    },
    {
     "name": "stdout",
     "output_type": "stream",
     "text": [
      "You have already guessed that letter. Try again.\n",
      "Current word: _ l a _ _\n"
     ]
    },
    {
     "name": "stdin",
     "output_type": "stream",
     "text": [
      "Please guess a letter that has not yet been guessed:  b\n"
     ]
    },
    {
     "name": "stdout",
     "output_type": "stream",
     "text": [
      "Letter b is in your target word.\n",
      "Current word: b l a _ _\n"
     ]
    },
    {
     "name": "stdin",
     "output_type": "stream",
     "text": [
      "Please guess a letter that has not yet been guessed:  m\n"
     ]
    },
    {
     "name": "stdout",
     "output_type": "stream",
     "text": [
      "Letter m is not in your target word.\n",
      "Current word: b l a _ _\n"
     ]
    },
    {
     "name": "stdin",
     "output_type": "stream",
     "text": [
      "Please guess a letter that has not yet been guessed:  m\n"
     ]
    },
    {
     "name": "stdout",
     "output_type": "stream",
     "text": [
      "You have already guessed that letter. Try again.\n",
      "Current word: b l a _ _\n"
     ]
    },
    {
     "name": "stdin",
     "output_type": "stream",
     "text": [
      "Please guess a letter that has not yet been guessed:  k\n"
     ]
    },
    {
     "name": "stdout",
     "output_type": "stream",
     "text": [
      "Letter k is not in your target word.\n",
      "Current word: b l a _ _\n"
     ]
    },
    {
     "name": "stdin",
     "output_type": "stream",
     "text": [
      "Please guess a letter that has not yet been guessed:  r\n"
     ]
    },
    {
     "name": "stdout",
     "output_type": "stream",
     "text": [
      "Letter r is not in your target word.\n",
      "You have made 6 mistakes. You lose! The word was: blade\n"
     ]
    }
   ],
   "source": [
    "hangman()"
   ]
  }
 ],
 "metadata": {
  "kernelspec": {
   "display_name": "Python 3 (ipykernel)",
   "language": "python",
   "name": "python3"
  },
  "language_info": {
   "codemirror_mode": {
    "name": "ipython",
    "version": 3
   },
   "file_extension": ".py",
   "mimetype": "text/x-python",
   "name": "python",
   "nbconvert_exporter": "python",
   "pygments_lexer": "ipython3",
   "version": "3.11.7"
  }
 },
 "nbformat": 4,
 "nbformat_minor": 5
}
