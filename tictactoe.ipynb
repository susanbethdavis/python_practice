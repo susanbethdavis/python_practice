{
 "cells": [
  {
   "cell_type": "code",
   "execution_count": 47,
   "id": "12a93845-0311-4fc1-9de4-ccc0212b94dc",
   "metadata": {},
   "outputs": [
    {
     "name": "stdout",
     "output_type": "stream",
     "text": [
      "\n",
      "---------------\n",
      "A1 | B1 | C1\n",
      "---------------\n",
      "A2 | B2 | C2\n",
      "---------------\n",
      "A3 | B3 | C3\n",
      "---------------\n",
      "---------------\n"
     ]
    },
    {
     "name": "stdin",
     "output_type": "stream",
     "text": [
      "Player X, enter a position to play:  A1\n"
     ]
    },
    {
     "name": "stdout",
     "output_type": "stream",
     "text": [
      "\n",
      "---------------\n",
      "X | B1 | C1\n",
      "---------------\n",
      "A2 | B2 | C2\n",
      "---------------\n",
      "A3 | B3 | C3\n",
      "---------------\n",
      "---------------\n"
     ]
    },
    {
     "name": "stdin",
     "output_type": "stream",
     "text": [
      "Player O, enter a position to play:  C1\n"
     ]
    },
    {
     "name": "stdout",
     "output_type": "stream",
     "text": [
      "\n",
      "---------------\n",
      "X | B1 | O\n",
      "---------------\n",
      "A2 | B2 | C2\n",
      "---------------\n",
      "A3 | B3 | C3\n",
      "---------------\n",
      "---------------\n"
     ]
    },
    {
     "name": "stdin",
     "output_type": "stream",
     "text": [
      "Player X, enter a position to play:  B1\n"
     ]
    },
    {
     "name": "stdout",
     "output_type": "stream",
     "text": [
      "\n",
      "---------------\n",
      "X | X | O\n",
      "---------------\n",
      "A2 | B2 | C2\n",
      "---------------\n",
      "A3 | B3 | C3\n",
      "---------------\n",
      "---------------\n"
     ]
    },
    {
     "name": "stdin",
     "output_type": "stream",
     "text": [
      "Player O, enter a position to play:  A2\n"
     ]
    },
    {
     "name": "stdout",
     "output_type": "stream",
     "text": [
      "\n",
      "---------------\n",
      "X | X | O\n",
      "---------------\n",
      "O | B2 | C2\n",
      "---------------\n",
      "A3 | B3 | C3\n",
      "---------------\n",
      "---------------\n"
     ]
    },
    {
     "name": "stdin",
     "output_type": "stream",
     "text": [
      "Player X, enter a position to play:  A3\n"
     ]
    },
    {
     "name": "stdout",
     "output_type": "stream",
     "text": [
      "\n",
      "---------------\n",
      "X | X | O\n",
      "---------------\n",
      "O | B2 | C2\n",
      "---------------\n",
      "X | B3 | C3\n",
      "---------------\n",
      "---------------\n"
     ]
    },
    {
     "name": "stdin",
     "output_type": "stream",
     "text": [
      "Player O, enter a position to play:  B2\n"
     ]
    },
    {
     "name": "stdout",
     "output_type": "stream",
     "text": [
      "\n",
      "---------------\n",
      "X | X | O\n",
      "---------------\n",
      "O | O | C2\n",
      "---------------\n",
      "X | B3 | C3\n",
      "---------------\n",
      "---------------\n"
     ]
    },
    {
     "name": "stdin",
     "output_type": "stream",
     "text": [
      "Player X, enter a position to play:  C2\n"
     ]
    },
    {
     "name": "stdout",
     "output_type": "stream",
     "text": [
      "\n",
      "---------------\n",
      "X | X | O\n",
      "---------------\n",
      "O | O | X\n",
      "---------------\n",
      "X | B3 | C3\n",
      "---------------\n",
      "---------------\n"
     ]
    },
    {
     "name": "stdin",
     "output_type": "stream",
     "text": [
      "Player O, enter a position to play:  C3\n"
     ]
    },
    {
     "name": "stdout",
     "output_type": "stream",
     "text": [
      "Game ended in a tie\n"
     ]
    }
   ],
   "source": [
    "### Initialize the Tic-Tac-Toe board with initial positions\n",
    "board = [[\"A1\", \"B1\", \"C1\"],\n",
    "         [\"A2\", \"B2\", \"C2\"],\n",
    "         [\"A3\", \"B3\", \"C3\"]]\n",
    "\n",
    "# Define the winning combinations on the board\n",
    "winning_combinations = [[\"A1\", \"B1\", \"C1\"],\n",
    "                        [\"A2\", \"B2\", \"C2\"],\n",
    "                        [\"A3\", \"B3\", \"C3\"],\n",
    "                        [\"A1\", \"A2\", \"A3\"],\n",
    "                        [\"B1\", \"B2\", \"B3\"],\n",
    "                        [\"C1\", \"C2\", \"C3\"],\n",
    "                        [\"A1\", \"B2\", \"C3\"],\n",
    "                        [\"A3\", \"B2\", \"C1\"]]\n",
    "\n",
    "def check_win():\n",
    "    \"\"\"\n",
    "    Check if there's a winning combination on the board.\n",
    "    Returns True if a player has won, otherwise False.\n",
    "    \"\"\"\n",
    "    for combination in winning_combinations:\n",
    "        if all(pos == 'X' for pos in combination) or all(pos == 'O' for pos in combination):\n",
    "            return True\n",
    "    return False\n",
    "\n",
    "def play_game():\n",
    "    \"\"\"\n",
    "    The main game loop. Alternates between Player X and Player O\n",
    "    until there's a winner or the game ends in a tie.\n",
    "    \"\"\"\n",
    "    while True:\n",
    "        # Player X's turn\n",
    "        display_board()\n",
    "        x_position = get_valid_position('Player X')\n",
    "        update_board(x_position, 'X')\n",
    "        update_winning_combinations(x_position, 'X')\n",
    "        if check_win():\n",
    "            print(\"Player X wins!\")\n",
    "            break\n",
    "\n",
    "        # Player O's turn\n",
    "        display_board()\n",
    "        o_position = get_valid_position('Player O')\n",
    "        update_board(o_position, 'O')\n",
    "        update_winning_combinations(o_position, 'O')\n",
    "        if check_win():\n",
    "            print(\"Player O wins!\")\n",
    "            break\n",
    "\n",
    "        # Check for a tie\n",
    "        if check_tie():\n",
    "            print(\"Game ended in a tie\")\n",
    "            break\n",
    "\n",
    "def get_valid_position(player):\n",
    "    \"\"\"\n",
    "    Prompt the player to enter a valid position on the board.\n",
    "    Keeps asking until a valid, unoccupied position is provided.\n",
    "    \"\"\"\n",
    "    while True:\n",
    "        position = input(f'{player}, enter a position to play: ').upper()\n",
    "        if is_valid_position(position):\n",
    "            return position\n",
    "        else:\n",
    "            print(\"Invalid or occupied position. Please try again.\")\n",
    "\n",
    "def is_valid_position(position):\n",
    "    \"\"\"\n",
    "    Check if the entered position is valid and unoccupied on the board.\n",
    "    Returns True if valid, otherwise False.\n",
    "    \"\"\"\n",
    "    for row in board:\n",
    "        if position in row:\n",
    "            return True\n",
    "    return False\n",
    "\n",
    "def update_board(position, player):\n",
    "    \"\"\"\n",
    "    Update the board with the player's move.\n",
    "    \"\"\"\n",
    "    for row in board:\n",
    "        for i in range(len(row)):\n",
    "            if row[i] == position:\n",
    "                row[i] = player\n",
    "                return\n",
    "\n",
    "def update_winning_combinations(position, player):\n",
    "    \"\"\"\n",
    "    Update the potential winning combinations with the player's move.\n",
    "    \"\"\"\n",
    "    for combination in winning_combinations:\n",
    "        for i in range(len(combination)):\n",
    "            if combination[i] == position:\n",
    "                combination[i] = player\n",
    "    return\n",
    "\n",
    "\n",
    "def check_tie():\n",
    "     \"\"\"\n",
    "    Check if there's a tie combination on the board.\n",
    "    \"\"\"\n",
    "    # Check if each winning combination has at least one 'X' and one 'O'\n",
    "    for row in winning_combinations:\n",
    "        if 'X' in row and 'O' in row:\n",
    "            continue  # This row cannot be won by either player\n",
    "        else:\n",
    "            return False  # There's still a chance for a win\n",
    "    # If all rows are blocked, it's a tie\n",
    "    return True\n",
    "\n",
    "def display_board():\n",
    "    \"\"\"\n",
    "    Display the current state of the board with clear separation between displays.\n",
    "    \"\"\"\n",
    "    print(\"\\n\" + \"-\" * 15)  \n",
    "    for row in board:\n",
    "        print(\" | \".join(row))  \n",
    "        print(\"-\" * 15)  \n",
    "   \n",
    "\n",
    "\n",
    "# Start the game\n",
    "play_game()\n",
    "\n"
   ]
  }
 ],
 "metadata": {
  "kernelspec": {
   "display_name": "Python 3 (ipykernel)",
   "language": "python",
   "name": "python3"
  },
  "language_info": {
   "codemirror_mode": {
    "name": "ipython",
    "version": 3
   },
   "file_extension": ".py",
   "mimetype": "text/x-python",
   "name": "python",
   "nbconvert_exporter": "python",
   "pygments_lexer": "ipython3",
   "version": "3.11.7"
  }
 },
 "nbformat": 4,
 "nbformat_minor": 5
}
