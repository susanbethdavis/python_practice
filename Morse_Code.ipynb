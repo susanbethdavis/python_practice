{
 "cells": [
  {
   "cell_type": "markdown",
   "id": "d793d348-642f-4d75-bcfe-4605215a5e82",
   "metadata": {},
   "source": [
    "Morse code, also known as American or Railroad Morse code, was developed by Samuel F. B. Morse in the United States during the 1830s to represent letters of the alphabet, numerals, and punctuation for electric telegraphy using an arrangement of dots and dashes. The original Morse code was further improved by Alfred Lewis Vail, Morse's assistant and partner. Later use of Morse code in Europe identified that it was insufficient to support non-English text like diacritical marks. This led to the development of International Morse Code, or Continental Morse Code as it is now known, in 1951.\n",
    "\n",
    "The most famous Morse code sequence is probably the one for SOS (Save Our Souls), denoted dot-dot-dot, dash-dash-dash, dot-dot-dot. This is because dot-dot-dot represents S, and dash-dash-dash represents O in Morse code.\n",
    "\n",
    "Create a program to decode a message into Morse code. Morse code uses a sequence of dots and dashes to encode letters, numbers, and the space character. The table below shows the conversion from American Morse code to individual characters. A single space separates the dot–dash pattern for each character. Three spaces represent a space character. You can use period for dot and hyphen for dash in your program."
   ]
  },
  {
   "cell_type": "code",
   "execution_count": 12,
   "id": "8d6addbf-0015-41b8-af4d-35402310e497",
   "metadata": {},
   "outputs": [],
   "source": [
    "def morse_code():\n",
    "    translator = {\n",
    "        'A': '.-', 'B': '-...', 'C': '-.-.', 'D': '-..', 'E': '.', 'F': '..-.',\n",
    "        'G': '--.', 'H': '....', 'I': '..', 'J': '.---', 'K': '-.-', 'L': '.-..',\n",
    "        'M': '--', 'N': '-.', 'O': '---', 'P': '.--.', 'Q': '--.-', 'R': '.-.',\n",
    "        'S': '...', 'T': '-', 'U': '..-', 'V': '...-', 'W': '.--', 'X': '-..-',\n",
    "        'Y': '-.--', 'Z': '--..', '1': '.----', '2': '..---', '3': '...--',\n",
    "        '4': '....-', '5': '.....', '6': '-....', '7': '--...', '8': '---..',\n",
    "        '9': '----.', '0': '-----', ' ': '   '\n",
    "    }\n",
    "\n",
    "    while True:\n",
    "        # Ask the user to enter a sentence.\n",
    "        message = input('Please enter a sentence that you would like to translate to Morse code: ')\n",
    "\n",
    "        # Check if the message contains only alphabetic characters, numbers, and spaces\n",
    "        if all(char.isalpha() or char.isspace() or char.isdigit() for char in message):\n",
    "            message = message.upper()\n",
    "\n",
    "            # Convert each letter, number, and space to its equivalent Morse code\n",
    "            morse_message = ''\n",
    "            for char in message:\n",
    "                morse_message += translator[char] + ' '  # Add space between Morse characters\n",
    "\n",
    "            # Print the conversion for the user\n",
    "            print(morse_message)\n",
    "        else:\n",
    "            print(\"Invalid input. Please enter only letters, numbers, or spaces.\")\n",
    "\n",
    "        # Ask if the user wants to translate another sentence, and validate input\n",
    "        while True:\n",
    "            again = input(\"Would you like to translate another sentence? (yes/no): \").lower()\n",
    "            if again == 'yes':\n",
    "                break\n",
    "            elif again == 'no':\n",
    "                print(\"Goodbye!\")\n",
    "                return\n",
    "            else:\n",
    "                print(\"Please enter 'yes' or 'no'.\")\n"
   ]
  },
  {
   "cell_type": "code",
   "execution_count": 13,
   "id": "b28fa805-cb24-4e49-ae7a-4ef141523b3e",
   "metadata": {},
   "outputs": [
    {
     "name": "stdin",
     "output_type": "stream",
     "text": [
      "Please enter a sentence that you would like to translate to Morse code:  welcome to NY\n"
     ]
    },
    {
     "name": "stdout",
     "output_type": "stream",
     "text": [
      ".-- . .-.. -.-. --- -- . / - --- / -. -.-- \n"
     ]
    },
    {
     "name": "stdin",
     "output_type": "stream",
     "text": [
      "Would you like to translate another sentence? (yes/no):  ah\n"
     ]
    },
    {
     "name": "stdout",
     "output_type": "stream",
     "text": [
      "Please enter 'yes' or 'no'.\n"
     ]
    },
    {
     "name": "stdin",
     "output_type": "stream",
     "text": [
      "Would you like to translate another sentence? (yes/no):  no\n"
     ]
    },
    {
     "name": "stdout",
     "output_type": "stream",
     "text": [
      "Goodbye!\n"
     ]
    }
   ],
   "source": [
    "morse_code()"
   ]
  }
 ],
 "metadata": {
  "kernelspec": {
   "display_name": "Python 3 (ipykernel)",
   "language": "python",
   "name": "python3"
  },
  "language_info": {
   "codemirror_mode": {
    "name": "ipython",
    "version": 3
   },
   "file_extension": ".py",
   "mimetype": "text/x-python",
   "name": "python",
   "nbconvert_exporter": "python",
   "pygments_lexer": "ipython3",
   "version": "3.11.7"
  }
 },
 "nbformat": 4,
 "nbformat_minor": 5
}
