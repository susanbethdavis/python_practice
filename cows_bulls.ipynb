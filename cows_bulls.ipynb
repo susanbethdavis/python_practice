{
 "cells": [
  {
   "cell_type": "markdown",
   "id": "f50f5dda-f526-4012-976c-dd57c77d4d89",
   "metadata": {},
   "source": [
    "# Cows and Bulls\n",
    "Create a program to play the game \"cows and bulls.\" This is how the game works. Randomly generate a 4-digit number in the range 0000 to 9999. Ask the user to guess the target number. For every digit the user guesses correctly, they receive a cow. The same digit only ever is counted as one cow, even if it is used multiple times in the value. For every position the user guesses correctly, they receive a bull. Count how many guesses it takes for them to guess the target number."
   ]
  },
  {
   "cell_type": "code",
   "execution_count": 94,
   "id": "4a8de516-54d7-448b-91b0-51e19babab7b",
   "metadata": {},
   "outputs": [],
   "source": [
    "# import packages \n",
    "import random"
   ]
  },
  {
   "cell_type": "code",
   "execution_count": 95,
   "id": "2467ed22-16af-4f20-83ef-6c601fcc948a",
   "metadata": {},
   "outputs": [
    {
     "name": "stdout",
     "output_type": "stream",
     "text": [
      "8272\n"
     ]
    }
   ],
   "source": [
    "\n",
    "# random number gererator (random.randint)\n",
    "true_value = str(random.randint(0000,9999)).zfill(4)\n",
    "# z fill to pad with the zeros \n",
    "print(true_value)\n"
   ]
  },
  {
   "cell_type": "code",
   "execution_count": 96,
   "id": "6c61a10c-08c3-41cd-9d5d-b2ec16a93fba",
   "metadata": {},
   "outputs": [
    {
     "name": "stdin",
     "output_type": "stream",
     "text": [
      "Welcome to Cows and Bulls. Please enter your name:  Susan\n"
     ]
    },
    {
     "name": "stdout",
     "output_type": "stream",
     "text": [
      "For every digit you guess correct you will receive a cow, regardless of its position. For every digit you guess incorrect you will\n",
      "receive a bull. The game will end when you have all cows and you have correctly identified their position.\n",
      "\n"
     ]
    }
   ],
   "source": [
    "# Input your name\n",
    "user_name = input('Welcome to Cows and Bulls. Please enter your name: ')\n",
    "\n",
    "# Display the rules for the player\n",
    "print(\"For every digit you guess correct you will receive a cow, regardless of its position. For every digit you guess incorrect you will\\nreceive a bull. The game will end when you have all cows and you have correctly identified their position.\\n\")\n",
    "\n",
    "# Use input to have the user guess the target number. The number does not need to be read in as an int because we are not concerned about its value but rather the numbers positions\n",
    "def guess():\n",
    "    while True:\n",
    "        user_value = input('Guess a number between 0000 and 9999: ').zfill(4)\n",
    "        \n",
    "\n",
    "        # Check that the user input is exactly 4 digits\n",
    "        if len(user_value) != 4:\n",
    "            print('Please enter a 4-digit number.')\n",
    "            continue\n",
    "        \n",
    "        # Check that the user inputted only numeric characters\n",
    "        if not user_value.isdigit():\n",
    "            print('Your number contains a non-digit character. Please guess a number between 0000 and 9999.')\n",
    "            continue\n",
    "        \n",
    "        return user_value\n",
    "\n",
    "\n"
   ]
  },
  {
   "cell_type": "code",
   "execution_count": 97,
   "id": "3a95bd51-9864-4441-879a-3a62b3c2fe26",
   "metadata": {},
   "outputs": [
    {
     "name": "stdin",
     "output_type": "stream",
     "text": [
      "Guess a number between 0000 and 9999:  0000\n"
     ]
    },
    {
     "name": "stdout",
     "output_type": "stream",
     "text": [
      "You have 0 cows and 0 bulls. Try again!\n"
     ]
    },
    {
     "name": "stdin",
     "output_type": "stream",
     "text": [
      "Guess a number between 0000 and 9999:  1111\n"
     ]
    },
    {
     "name": "stdout",
     "output_type": "stream",
     "text": [
      "You have 0 cows and 0 bulls. Try again!\n"
     ]
    },
    {
     "name": "stdin",
     "output_type": "stream",
     "text": [
      "Guess a number between 0000 and 9999:  2222\n"
     ]
    },
    {
     "name": "stdout",
     "output_type": "stream",
     "text": [
      "You have 1 cows and 2 bulls. Try again!\n"
     ]
    },
    {
     "name": "stdin",
     "output_type": "stream",
     "text": [
      "Guess a number between 0000 and 9999:  2211\n"
     ]
    },
    {
     "name": "stdout",
     "output_type": "stream",
     "text": [
      "You have 1 cows and 1 bulls. Try again!\n"
     ]
    },
    {
     "name": "stdin",
     "output_type": "stream",
     "text": [
      "Guess a number between 0000 and 9999:  2221\n"
     ]
    },
    {
     "name": "stdout",
     "output_type": "stream",
     "text": [
      "You have 1 cows and 1 bulls. Try again!\n"
     ]
    },
    {
     "name": "stdin",
     "output_type": "stream",
     "text": [
      "Guess a number between 0000 and 9999:  2212\n"
     ]
    },
    {
     "name": "stdout",
     "output_type": "stream",
     "text": [
      "You have 1 cows and 2 bulls. Try again!\n"
     ]
    },
    {
     "name": "stdin",
     "output_type": "stream",
     "text": [
      "Guess a number between 0000 and 9999:  2112\n"
     ]
    },
    {
     "name": "stdout",
     "output_type": "stream",
     "text": [
      "You have 1 cows and 1 bulls. Try again!\n"
     ]
    },
    {
     "name": "stdin",
     "output_type": "stream",
     "text": [
      "Guess a number between 0000 and 9999:  1212\n"
     ]
    },
    {
     "name": "stdout",
     "output_type": "stream",
     "text": [
      "You have 1 cows and 2 bulls. Try again!\n"
     ]
    },
    {
     "name": "stdin",
     "output_type": "stream",
     "text": [
      "Guess a number between 0000 and 9999:  3212\n"
     ]
    },
    {
     "name": "stdout",
     "output_type": "stream",
     "text": [
      "You have 1 cows and 2 bulls. Try again!\n"
     ]
    },
    {
     "name": "stdin",
     "output_type": "stream",
     "text": [
      "Guess a number between 0000 and 9999:  4212\n"
     ]
    },
    {
     "name": "stdout",
     "output_type": "stream",
     "text": [
      "You have 1 cows and 2 bulls. Try again!\n"
     ]
    },
    {
     "name": "stdin",
     "output_type": "stream",
     "text": [
      "Guess a number between 0000 and 9999:  5212\n"
     ]
    },
    {
     "name": "stdout",
     "output_type": "stream",
     "text": [
      "You have 1 cows and 2 bulls. Try again!\n"
     ]
    },
    {
     "name": "stdin",
     "output_type": "stream",
     "text": [
      "Guess a number between 0000 and 9999:  6212\n"
     ]
    },
    {
     "name": "stdout",
     "output_type": "stream",
     "text": [
      "You have 1 cows and 2 bulls. Try again!\n"
     ]
    },
    {
     "name": "stdin",
     "output_type": "stream",
     "text": [
      "Guess a number between 0000 and 9999:  7212\n"
     ]
    },
    {
     "name": "stdout",
     "output_type": "stream",
     "text": [
      "You have 2 cows and 2 bulls. Try again!\n"
     ]
    },
    {
     "name": "stdin",
     "output_type": "stream",
     "text": [
      "Guess a number between 0000 and 9999:  7232\n"
     ]
    },
    {
     "name": "stdout",
     "output_type": "stream",
     "text": [
      "You have 2 cows and 2 bulls. Try again!\n"
     ]
    },
    {
     "name": "stdin",
     "output_type": "stream",
     "text": [
      "Guess a number between 0000 and 9999:  7242\n"
     ]
    },
    {
     "name": "stdout",
     "output_type": "stream",
     "text": [
      "You have 2 cows and 2 bulls. Try again!\n"
     ]
    },
    {
     "name": "stdin",
     "output_type": "stream",
     "text": [
      "Guess a number between 0000 and 9999:  7252\n"
     ]
    },
    {
     "name": "stdout",
     "output_type": "stream",
     "text": [
      "You have 2 cows and 2 bulls. Try again!\n"
     ]
    },
    {
     "name": "stdin",
     "output_type": "stream",
     "text": [
      "Guess a number between 0000 and 9999:  7262\n"
     ]
    },
    {
     "name": "stdout",
     "output_type": "stream",
     "text": [
      "You have 2 cows and 2 bulls. Try again!\n"
     ]
    },
    {
     "name": "stdin",
     "output_type": "stream",
     "text": [
      "Guess a number between 0000 and 9999:  7272\n"
     ]
    },
    {
     "name": "stdout",
     "output_type": "stream",
     "text": [
      "You have 2 cows and 3 bulls. Try again!\n"
     ]
    },
    {
     "name": "stdin",
     "output_type": "stream",
     "text": [
      "Guess a number between 0000 and 9999:  7282\n"
     ]
    },
    {
     "name": "stdout",
     "output_type": "stream",
     "text": [
      "You have 3 cows and 2 bulls. Try again!\n"
     ]
    },
    {
     "name": "stdin",
     "output_type": "stream",
     "text": [
      "Guess a number between 0000 and 9999:  7292\n"
     ]
    },
    {
     "name": "stdout",
     "output_type": "stream",
     "text": [
      "You have 2 cows and 2 bulls. Try again!\n"
     ]
    },
    {
     "name": "stdin",
     "output_type": "stream",
     "text": [
      "Guess a number between 0000 and 9999:  7282\n"
     ]
    },
    {
     "name": "stdout",
     "output_type": "stream",
     "text": [
      "You have 3 cows and 2 bulls. Try again!\n"
     ]
    },
    {
     "name": "stdin",
     "output_type": "stream",
     "text": [
      "Guess a number between 0000 and 9999:  8272\n"
     ]
    },
    {
     "name": "stdout",
     "output_type": "stream",
     "text": [
      "Yay, Susan! You guessed all positions and numbers correctly in 22 guesses!\n"
     ]
    }
   ],
   "source": [
    "# Initialize the number of guesses the player has made to 0\n",
    "guesses = 0\n",
    "\n",
    "def play(true_value):\n",
    "    global guesses  # Declare that we're using the global `guesses` variable to track the number of attempts\n",
    "    while True:  # Start an infinite loop that continues until the correct guess is made\n",
    "        user_value = guess()  # Call the `guess` function to get the player's guess\n",
    "        guesses += 1  # Increment the guess count\n",
    "\n",
    "        # Initialize counters for cows and bulls\n",
    "        cows = 0\n",
    "        bulls = 0\n",
    "        true_value_used = []  # Create a list to keep track of digits in the true value that have already been used to count cows\n",
    "\n",
    "        # First loop: Count bulls (correct digits in the correct position)\n",
    "        for i in range(4):\n",
    "            if user_value[i] == true_value[i]:  # If the digit is correct and in the correct position\n",
    "                bulls += 1  # Increment the bulls count\n",
    "\n",
    "        # Second loop: Count cows (correct digits in the wrong position)\n",
    "        for i in range(4):\n",
    "            if user_value[i] in true_value:  # If the digit is in the true value (regardless of position)\n",
    "                if user_value[i] not in true_value_used:  # Check if this digit hasn't already been used to count cows\n",
    "                    true_value_used += user_value[i]  # Add this digit to the list of used digits\n",
    "                    cows += 1  # Increment the cows count\n",
    "\n",
    "        # Check if the player has won the game\n",
    "        if bulls == 4:  # If all 4 digits are bulls, the player has guessed the number correctly\n",
    "            print(f'Yay, {user_name}! You guessed all positions and numbers correctly in {guesses} guesses!')\n",
    "            break  # Exit the loop and end the game\n",
    "        else:\n",
    "            # If the player hasn't guessed correctly yet, show the number of cows and bulls and continue\n",
    "            print(f'You have {cows} cows and {bulls} bulls. Try again!')\n"
   ]
  }
 ],
 "metadata": {
  "kernelspec": {
   "display_name": "Python 3 (ipykernel)",
   "language": "python",
   "name": "python3"
  },
  "language_info": {
   "codemirror_mode": {
    "name": "ipython",
    "version": 3
   },
   "file_extension": ".py",
   "mimetype": "text/x-python",
   "name": "python",
   "nbconvert_exporter": "python",
   "pygments_lexer": "ipython3",
   "version": "3.11.7"
  }
 },
 "nbformat": 4,
 "nbformat_minor": 5
}
