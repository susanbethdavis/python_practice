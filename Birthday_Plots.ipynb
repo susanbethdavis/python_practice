{
 "cells": [
  {
   "cell_type": "markdown",
   "id": "7145c2a9-c8b5-4cb2-b80e-b20af51488c9",
   "metadata": {},
   "source": [
    "## Instructions:\n",
    "\n",
    "Create a program to assign a random number of birthdays to each month, based on a maximum number of birthdays defined by the user.\n",
    "\n",
    "Birthday Plot Pseudocode\n"
   ]
  },
  {
   "cell_type": "code",
   "execution_count": 47,
   "id": "c4da614f-53b0-4d33-81dc-dce13478fe7a",
   "metadata": {},
   "outputs": [],
   "source": [
    "import random\n",
    "import matplotlib.pyplot as plt "
   ]
  },
  {
   "cell_type": "code",
   "execution_count": 48,
   "id": "de05967e-6c1b-405a-8222-f10d0a2edf11",
   "metadata": {},
   "outputs": [],
   "source": [
    "# Initialize the number of birthdays for each month to zero\n",
    "user_dictionary = {\n",
    "    \"Jan\": 0, \"Feb\": 0, \"Mar\": 0, \"Apr\": 0,\n",
    "    \"May\": 0, \"Jun\": 0, \"Jul\": 0, \"Aug\": 0,\n",
    "    \"Sep\": 0, \"Oct\": 0, \"Nov\": 0, \"Dec\": 0\n",
    "}"
   ]
  },
  {
   "cell_type": "code",
   "execution_count": null,
   "id": "b4e7751f-63b9-40b9-aa73-80458a5bfa94",
   "metadata": {},
   "outputs": [
    {
     "name": "stdin",
     "output_type": "stream",
     "text": [
      "What is the maximum number of birthdays in Jan:  d\n"
     ]
    },
    {
     "name": "stdout",
     "output_type": "stream",
     "text": [
      "Invalid input. Please enter an integer value.\n"
     ]
    },
    {
     "name": "stdin",
     "output_type": "stream",
     "text": [
      "What is the maximum number of birthdays in Jan:  100\n",
      "What is the maximum number of birthdays in Feb:  200\n",
      "What is the maximum number of birthdays in Mar:  1000\n",
      "What is the maximum number of birthdays in Apr:  48\n",
      "What is the maximum number of birthdays in May:  123\n",
      "What is the maximum number of birthdays in Jun:  199\n",
      "What is the maximum number of birthdays in Jul:  341\n"
     ]
    }
   ],
   "source": [
    "computer_dictionary = {}\n",
    "\n",
    "for month in user_dictionary.keys():\n",
    "    # Ask the user for the maximum number of birthdays for a month.\n",
    "    while True:  # Loop until a valid integer is entered\n",
    "        try:\n",
    "            # Ask the user for the maximum number of birthdays for the month\n",
    "            user_dictionary[month] = int(input(f\"What is the maximum number of birthdays in {month}: \"))\n",
    "            break  # Exit the loop if input is valid\n",
    "        except ValueError:\n",
    "            print(\"Invalid input. Please enter an integer value.\")\n",
    "    \n",
    "    # Assign a random number between 0 and the month-maximum for each month\n",
    "    computer_dictionary[month] = random.randint(0, user_dictionary[month])\n",
    "\n"
   ]
  },
  {
   "cell_type": "code",
   "execution_count": null,
   "id": "e9f5771a-490b-4df3-900a-43f7ca600d05",
   "metadata": {},
   "outputs": [],
   "source": [
    "# Plot the results using pyplot.\n",
    "courses = list(computer_dictionary.keys())\n",
    "values = list(computer_dictionary.values())\n",
    "\n",
    "\n",
    "plt.bar(courses, values, color ='lightpink', \n",
    "        width = 0.4)\n",
    "plt.xlabel(\"Months\")\n",
    "plt.ylabel(\"No. of Birthdays\")\n",
    "plt.title(\"Birthdays Per Month of the Year\")\n",
    "plt.show()"
   ]
  }
 ],
 "metadata": {
  "kernelspec": {
   "display_name": "Python 3 (ipykernel)",
   "language": "python",
   "name": "python3"
  },
  "language_info": {
   "codemirror_mode": {
    "name": "ipython",
    "version": 3
   },
   "file_extension": ".py",
   "mimetype": "text/x-python",
   "name": "python",
   "nbconvert_exporter": "python",
   "pygments_lexer": "ipython3",
   "version": "3.11.7"
  }
 },
 "nbformat": 4,
 "nbformat_minor": 5
}
