{
 "cells": [
  {
   "cell_type": "markdown",
   "id": "cc97f436-ffc5-4d35-b63b-54fb44b8724a",
   "metadata": {},
   "source": [
    "Friday the 13th is considered an unlucky day in many countries, but not all. There is no definitive answer as to why this day is considered unlucky, but a common belief is that it originates from Judas Iscariot being the 13th guest to arrive at the last supper. Another explanation is that in Norse lore, 12 gods came together at Valhalla and Loki, the mischievous god, arrived unannounced as the 13th guest.\n",
    "\n",
    "Regardless of its origin, in this problem you are asked to find all occurrences of Friday when it is the 13th day of the month, for a given year chosen by a user. This will allow you to practice using the datetime data structure in Python. datetime is specifically designed to allow date and time manipulation in a simple manner. For example, with a datetime variable, you can easily perform the following (often more complicated) tasks.\n",
    "\n",
    "Convert a string like 01/01/2023 12:00:00pm to a datetime variable with the strptime function,\n",
    "Convert a datetime variable to a string in any format you need with the strftime function,\n",
    "Determine the year, month, day, hour, minute, and second contained in a datetime variable by looking at its year, month, day, hour, minute, and second components (e.g., print( dt_tm.year)),\n",
    "Increment or decrement a datetime variable by a specific number of years, months, days, hours, minutes, or seconds using the timedelta function, all without having to remember how many days a month has, whether a year is a leap year, and so on.\n",
    "Create a program that asks a user to enter a year that is positive, then prints all occurrences of Friday the 13th for the given year. The basic program structure would follow a pattern something similar to this.\n",
    "\n"
   ]
  },
  {
   "cell_type": "markdown",
   "id": "d175b1e8-bc88-410c-855e-50f2b711907f",
   "metadata": {},
   "source": [
    "Ask the user to input a valid year.\n",
    "Convert the year into a datetime variable representing 01/01/year.\n",
    "Loop over all days in the year and check each day to see if it is Friday the 13th. You can use the timedelta and weekday functions, as well as the ability to directly access a datetime's year, month, and day using .year, .month, and .day as needed.\n",
    "Print each date that corresponds to Friday the 13th."
   ]
  },
  {
   "cell_type": "code",
   "execution_count": 10,
   "id": "3a55189b-f4b9-4374-a116-6feab622f717",
   "metadata": {},
   "outputs": [],
   "source": [
    "from datetime import datetime, timedelta\n"
   ]
  },
  {
   "cell_type": "code",
   "execution_count": 20,
   "id": "75ae6f13-85cf-46f3-8ba8-05de3b043d53",
   "metadata": {},
   "outputs": [
    {
     "name": "stdin",
     "output_type": "stream",
     "text": [
      "Please input a valid year:  0\n"
     ]
    },
    {
     "name": "stdout",
     "output_type": "stream",
     "text": [
      "That's not a valid year.\n"
     ]
    },
    {
     "name": "stdin",
     "output_type": "stream",
     "text": [
      "Please input a valid year:  2001\n"
     ]
    },
    {
     "name": "stdout",
     "output_type": "stream",
     "text": [
      "Friday the 13th dates in the year 2001 :\n",
      "04/13/2001\n",
      "07/13/2001\n"
     ]
    }
   ],
   "source": [
    "# ask the iser to input a valid year\n",
    "while True:\n",
    "    try:\n",
    "        year = int(input('Please input a valid year: '))\n",
    "        if year <= 0:\n",
    "            raise ValueError(\"Year must be a positive value.\")\n",
    "        break\n",
    "    except ValueError:\n",
    "        print(\"That's not a valid year.\")\n",
    "# convert the year into a datetime variable representing 01/01/year\n",
    "date  = datetime(int(year), 1,1)\n",
    "\n",
    "\n",
    "# Initialize a list to store all Friday the 13th dates\n",
    "friday_13ths = []\n",
    "\n",
    "# Loop over all the days in the year\n",
    "while date.year == int(year):\n",
    "    # Check if the current date is Friday the 13th\n",
    "    if date.day == 13 and date.weekday() == 4:  # weekday() == 4 means Friday\n",
    "        friday_13ths.append(date.strftime('%m/%d/%Y'))\n",
    "    # Move to the next day\n",
    "    date += timedelta(days=1)\n",
    "\n",
    "# Output the results\n",
    "if friday_13ths:\n",
    "    print(\"Friday the 13th dates in the year\", year, \":\")\n",
    "    for i in friday_13ths:\n",
    "        print(i)\n",
    "else:\n",
    "    print(\"There are no Friday the 13th dates in the year\", year)"
   ]
  }
 ],
 "metadata": {
  "kernelspec": {
   "display_name": "Python 3 (ipykernel)",
   "language": "python",
   "name": "python3"
  },
  "language_info": {
   "codemirror_mode": {
    "name": "ipython",
    "version": 3
   },
   "file_extension": ".py",
   "mimetype": "text/x-python",
   "name": "python",
   "nbconvert_exporter": "python",
   "pygments_lexer": "ipython3",
   "version": "3.11.7"
  }
 },
 "nbformat": 4,
 "nbformat_minor": 5
}
